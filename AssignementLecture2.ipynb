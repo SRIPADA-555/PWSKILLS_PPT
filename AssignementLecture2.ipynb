{
 "cells": [
  {
   "cell_type": "markdown",
   "id": "93b31a61-616a-48ba-a3f4-5bd5b24a087e",
   "metadata": {},
   "source": [
    "1. Write a Python program to reverse a string without using any built-in string reversal functions."
   ]
  },
  {
   "cell_type": "code",
   "execution_count": 1,
   "id": "6d79dcaa-4358-427c-969e-456fe15ff3a0",
   "metadata": {},
   "outputs": [
    {
     "name": "stdout",
     "output_type": "stream",
     "text": [
      "!dlroW ,olleH\n"
     ]
    }
   ],
   "source": [
    "def reverse_string(string):\n",
    "    reversed_string = \"\"\n",
    "    for i in range(len(string) - 1, -1, -1):\n",
    "        reversed_string += string[i]\n",
    "    return reversed_string\n",
    "\n",
    "# Example usage\n",
    "input_string = \"Hello, World!\"\n",
    "reversed_string = reverse_string(input_string)\n",
    "print(reversed_string)\n"
   ]
  },
  {
   "cell_type": "markdown",
   "id": "f94613f8-41ef-4454-81e3-9902c1b4ca57",
   "metadata": {},
   "source": [
    "2. Implement a function to check if a given string is a palindrome."
   ]
  },
  {
   "cell_type": "code",
   "execution_count": 6,
   "id": "541432c8-44cf-4dda-b1e2-39d1aa62064d",
   "metadata": {},
   "outputs": [
    {
     "name": "stdin",
     "output_type": "stream",
     "text": [
      "Enter the string hello\n"
     ]
    },
    {
     "name": "stdout",
     "output_type": "stream",
     "text": [
      "It's not a palindrome.\n"
     ]
    }
   ],
   "source": [
    "def is_palindrome(string):\n",
    "    string = string.lower()  # Convert string to lowercase for case-insensitive comparison\n",
    "    reversed_string = string[::-1]  # Reverse the string using slicing\n",
    "    return string == reversed_string\n",
    "\n",
    "# Example usage\n",
    "input_string = input(\"Enter the string\")\n",
    "if is_palindrome(input_string):\n",
    "    print(\"It's a palindrome!\")\n",
    "else:\n",
    "    print(\"It's not a palindrome.\")\n"
   ]
  },
  {
   "cell_type": "markdown",
   "id": "ff62a2c1-d3e2-4c76-838e-7f359179b5ac",
   "metadata": {},
   "source": [
    "3. Write a program to find the largest element in a given list."
   ]
  },
  {
   "cell_type": "code",
   "execution_count": 7,
   "id": "ac78356a-4e5b-4277-b445-280cc704789d",
   "metadata": {},
   "outputs": [
    {
     "name": "stdout",
     "output_type": "stream",
     "text": [
      "12\n"
     ]
    }
   ],
   "source": [
    "def find_largest_element(lst):\n",
    "    largest = lst[0]  # Assume the first element is the largest\n",
    "    for num in lst:\n",
    "        if num > largest:\n",
    "            largest = num\n",
    "    return largest\n",
    "\n",
    "# Example usage\n",
    "numbers = [5, 8, 3, 12, 9]\n",
    "largest_number = find_largest_element(numbers)\n",
    "print(largest_number)  # Output: 12\n"
   ]
  },
  {
   "cell_type": "markdown",
   "id": "d328e87c-ba88-4330-bd99-70f4c5222ec8",
   "metadata": {},
   "source": [
    "4. Implement a function to count the occurrence of each element in a list."
   ]
  },
  {
   "cell_type": "code",
   "execution_count": 8,
   "id": "47876d05-5941-4019-9c73-58e8483bcca5",
   "metadata": {},
   "outputs": [
    {
     "name": "stdout",
     "output_type": "stream",
     "text": [
      "{2: 3, 3: 2, 5: 1, 8: 1}\n"
     ]
    }
   ],
   "source": [
    "def count_occurrences(lst):\n",
    "    occurrence_count = {}\n",
    "    for element in lst:\n",
    "        if element in occurrence_count:\n",
    "            occurrence_count[element] += 1\n",
    "        else:\n",
    "            occurrence_count[element] = 1\n",
    "    return occurrence_count\n",
    "\n",
    "# Example usage\n",
    "numbers = [2, 3, 2, 5, 8, 2, 3]\n",
    "occurrences = count_occurrences(numbers)\n",
    "print(occurrences)  # Output: {2: 3, 3: 2, 5: 1, 8: 1}\n"
   ]
  },
  {
   "cell_type": "markdown",
   "id": "6fc3e0de-d7fc-47f5-b4e6-dd7d0c93544c",
   "metadata": {},
   "source": [
    "5. Write a Python program to find the second largest number in a list."
   ]
  },
  {
   "cell_type": "code",
   "execution_count": 11,
   "id": "c9972592-95a5-45e8-bf48-97f16e06c7a5",
   "metadata": {},
   "outputs": [
    {
     "name": "stdout",
     "output_type": "stream",
     "text": [
      "9\n"
     ]
    }
   ],
   "source": [
    "def find_second_largest(lst):\n",
    "    largest = max(lst)  # Find the largest element in the list\n",
    "    second_largest = float('-inf')  # Initialize second largest to negative infinity\n",
    "\n",
    "    # Iterate over each element in the list\n",
    "    for num in lst:\n",
    "        if num != largest and num > second_largest:\n",
    "            second_largest = num\n",
    "\n",
    "    return second_largest\n",
    "\n",
    "# Example usage\n",
    "numbers = [5, 8, 3, 12, 9]\n",
    "second_largest_number = find_second_largest(numbers)\n",
    "print(second_largest_number)  # Output: 9\n"
   ]
  },
  {
   "cell_type": "markdown",
   "id": "196c5aab-aa22-4982-923a-ea4e9d84e712",
   "metadata": {},
   "source": [
    "6. Implement a function to remove duplicate elements from a list."
   ]
  },
  {
   "cell_type": "code",
   "execution_count": 12,
   "id": "1d1846ab-26c8-4386-982a-e5fb3c689acc",
   "metadata": {},
   "outputs": [
    {
     "name": "stdout",
     "output_type": "stream",
     "text": [
      "[2, 3, 5, 8]\n"
     ]
    }
   ],
   "source": [
    "def remove_duplicates(lst):\n",
    "    unique_list = []\n",
    "    for element in lst:\n",
    "        if element not in unique_list:\n",
    "            unique_list.append(element)\n",
    "    return unique_list\n",
    "\n",
    "# Example usage\n",
    "numbers = [2, 3, 2, 5, 8, 2, 3]\n",
    "unique_numbers = remove_duplicates(numbers)\n",
    "print(unique_numbers)  # Output: [2, 3, 5, 8]\n"
   ]
  },
  {
   "cell_type": "markdown",
   "id": "1cbd9cb3-0843-4de1-b00f-43da63aa8bec",
   "metadata": {},
   "source": [
    "7. Write a program to calculate the factorial of a given number."
   ]
  },
  {
   "cell_type": "code",
   "execution_count": 13,
   "id": "65ad1870-721d-4a7f-a744-782ea342e15f",
   "metadata": {},
   "outputs": [
    {
     "name": "stdout",
     "output_type": "stream",
     "text": [
      "120\n"
     ]
    }
   ],
   "source": [
    "def calculate_factorial(n):\n",
    "    factorial = 1\n",
    "    for i in range(1, n+1):\n",
    "        factorial *= i\n",
    "    return factorial\n",
    "\n",
    "# Example usage\n",
    "number = 5\n",
    "factorial_result = calculate_factorial(number)\n",
    "print(factorial_result)  # Output: 120\n"
   ]
  },
  {
   "cell_type": "markdown",
   "id": "bb6d7159-4fd6-4f15-8d74-553338fb7994",
   "metadata": {},
   "source": [
    "8. Implement a function to check if a given number is prime."
   ]
  },
  {
   "cell_type": "code",
   "execution_count": 17,
   "id": "882ea5a2-10aa-407d-ac17-c222e27597f6",
   "metadata": {},
   "outputs": [
    {
     "name": "stdin",
     "output_type": "stream",
     "text": [
      "enter a number 17\n"
     ]
    },
    {
     "name": "stdout",
     "output_type": "stream",
     "text": [
      "It's a prime number!\n"
     ]
    }
   ],
   "source": [
    "def is_prime(number):\n",
    "    if number < 2:\n",
    "        return False\n",
    "    for i in range(2, int(number ** 0.5) + 1):\n",
    "        if number % i == 0:\n",
    "            return False\n",
    "    return True\n",
    "\n",
    "# Example usage\n",
    "num = int(input(\"enter a number\"))\n",
    "if is_prime(num):\n",
    "    print(\"It's a prime number!\")\n",
    "else:\n",
    "    print(\"It's not a prime number.\")\n"
   ]
  },
  {
   "cell_type": "markdown",
   "id": "860c98ca-ee76-4c5e-8539-68f7b1d73f1f",
   "metadata": {},
   "source": [
    "9. Write a Python program to sort a list of integers in ascending order."
   ]
  },
  {
   "cell_type": "code",
   "execution_count": 18,
   "id": "eef026f2-aa30-4dfc-adfe-fc68546d0a43",
   "metadata": {},
   "outputs": [
    {
     "name": "stdout",
     "output_type": "stream",
     "text": [
      "[1, 2, 5, 8, 9]\n"
     ]
    }
   ],
   "source": [
    "def sort_list(lst):\n",
    "    sorted_list = sorted(lst)\n",
    "    return sorted_list\n",
    "\n",
    "# Example usage\n",
    "numbers = [5, 2, 8, 1, 9]\n",
    "sorted_numbers = sort_list(numbers)\n",
    "print(sorted_numbers)  # Output: [1, 2, 5, 8, 9]\n"
   ]
  },
  {
   "cell_type": "markdown",
   "id": "d497a658-6ae0-4461-9dd4-32a6527ea184",
   "metadata": {},
   "source": [
    "10. Implement a function to find the sum of all numbers in a list."
   ]
  },
  {
   "cell_type": "code",
   "execution_count": 19,
   "id": "eb33a255-1592-456c-b14c-d1f7fcba61ca",
   "metadata": {},
   "outputs": [
    {
     "name": "stdout",
     "output_type": "stream",
     "text": [
      "25\n"
     ]
    }
   ],
   "source": [
    "def calculate_sum(lst):\n",
    "    total = sum(lst)\n",
    "    return total\n",
    "\n",
    "# Example usage\n",
    "numbers = [5, 2, 8, 1, 9]\n",
    "sum_of_numbers = calculate_sum(numbers)\n",
    "print(sum_of_numbers)  # Output: 25\n",
    "\n"
   ]
  },
  {
   "cell_type": "markdown",
   "id": "d1ea4604-2e74-4afb-9434-53aeadd3adac",
   "metadata": {},
   "source": [
    "11. Write a program to find the common elements between two lists."
   ]
  },
  {
   "cell_type": "code",
   "execution_count": 20,
   "id": "5f40e20b-4fe0-430c-a418-df0794cf3b85",
   "metadata": {},
   "outputs": [
    {
     "name": "stdout",
     "output_type": "stream",
     "text": [
      "[2, 5, 8]\n"
     ]
    }
   ],
   "source": [
    "def find_common_elements(list1, list2):\n",
    "    common_elements = []\n",
    "    for element in list1:\n",
    "        if element in list2:\n",
    "            common_elements.append(element)\n",
    "    return common_elements\n",
    "\n",
    "# Example usage\n",
    "list1 = [2, 3, 5, 8, 10]\n",
    "list2 = [5, 8, 12, 6, 2]\n",
    "common_elements = find_common_elements(list1, list2)\n",
    "print(common_elements)  # Output: [2, 5, 8]\n"
   ]
  },
  {
   "cell_type": "markdown",
   "id": "dc38f1c7-8231-4460-810e-ace7074c30e8",
   "metadata": {},
   "source": [
    "12. Implement a function to check if a given string is an anagram of another string."
   ]
  },
  {
   "cell_type": "code",
   "execution_count": 21,
   "id": "826a28ec-e3cf-4748-916c-29f3f575e432",
   "metadata": {},
   "outputs": [
    {
     "name": "stdout",
     "output_type": "stream",
     "text": [
      "The strings are anagrams!\n"
     ]
    }
   ],
   "source": [
    "def is_anagram(str1, str2):\n",
    "    str1 = str1.lower()  # Convert both strings to lowercase for case-insensitive comparison\n",
    "    str2 = str2.lower()\n",
    "    str1_sorted = sorted(str1)  # Sort the characters of both strings\n",
    "    str2_sorted = sorted(str2)\n",
    "    return str1_sorted == str2_sorted  # Compare the sorted strings\n",
    "\n",
    "# Example usage\n",
    "string1 = \"listen\"\n",
    "string2 = \"silent\"\n",
    "if is_anagram(string1, string2):\n",
    "    print(\"The strings are anagrams!\")\n",
    "else:\n",
    "    print(\"The strings are not anagrams.\")\n"
   ]
  },
  {
   "cell_type": "markdown",
   "id": "10b90421-ce26-47e4-87f2-9be6c48961d0",
   "metadata": {},
   "source": [
    "13. Write a Python program to generate all permutations of a given string."
   ]
  },
  {
   "cell_type": "code",
   "execution_count": 22,
   "id": "62e5fe69-5432-4406-b6b2-6e8b9b190c8d",
   "metadata": {},
   "outputs": [
    {
     "name": "stdout",
     "output_type": "stream",
     "text": [
      "abc\n",
      "acb\n",
      "bac\n",
      "bca\n",
      "cab\n",
      "cba\n"
     ]
    }
   ],
   "source": [
    "def generate_permutations(string):\n",
    "    if len(string) == 1:\n",
    "        return [string]\n",
    "    \n",
    "    permutations = []  # List to store permutations\n",
    "    \n",
    "    for i in range(len(string)):\n",
    "        char = string[i]\n",
    "        remaining_chars = string[:i] + string[i+1:]\n",
    "        \n",
    "        for sub_permutation in generate_permutations(remaining_chars):\n",
    "            permutations.append(char + sub_permutation)\n",
    "    \n",
    "    return permutations\n",
    "\n",
    "# Example usage\n",
    "input_string = \"abc\"\n",
    "permutations = generate_permutations(input_string)\n",
    "for permutation in permutations:\n",
    "    print(permutation)\n"
   ]
  },
  {
   "cell_type": "markdown",
   "id": "5af228c5-04ab-43ac-ad97-0f31c32c24dc",
   "metadata": {},
   "source": [
    "14. Implement a function to calculate the Fibonacci sequence up to a given number of terms."
   ]
  },
  {
   "cell_type": "code",
   "execution_count": 23,
   "id": "1043f78a-cc43-455f-9614-2b9a9f264ead",
   "metadata": {},
   "outputs": [
    {
     "name": "stdout",
     "output_type": "stream",
     "text": [
      "[0, 1, 1, 2, 3, 5, 8, 13, 21, 34]\n"
     ]
    }
   ],
   "source": [
    "def calculate_fibonacci(n):\n",
    "    fibonacci_sequence = [0, 1]  # Initialize the Fibonacci sequence with the first two terms\n",
    "    \n",
    "    # Calculate the subsequent terms\n",
    "    for i in range(2, n):\n",
    "        next_term = fibonacci_sequence[i-1] + fibonacci_sequence[i-2]\n",
    "        fibonacci_sequence.append(next_term)\n",
    "    \n",
    "    return fibonacci_sequence\n",
    "\n",
    "# Example usage\n",
    "num_terms = 10\n",
    "fibonacci_terms = calculate_fibonacci(num_terms)\n",
    "print(fibonacci_terms)\n"
   ]
  },
  {
   "cell_type": "markdown",
   "id": "4e67ddda-0f76-441d-ad5b-03be531738d9",
   "metadata": {},
   "source": [
    "15. Write a program to find the median of a list of numbers."
   ]
  },
  {
   "cell_type": "code",
   "execution_count": null,
   "id": "d7a668fb-1ca5-4824-ab9c-33d7c63498e9",
   "metadata": {},
   "outputs": [],
   "source": []
  },
  {
   "cell_type": "markdown",
   "id": "f7546bfc-2550-4310-a85d-8d4f2dad06a9",
   "metadata": {},
   "source": [
    "16. Implement a function to check if a given list is sorted in non-decreasing order."
   ]
  },
  {
   "cell_type": "code",
   "execution_count": 24,
   "id": "3e7931e5-ff23-496b-9faf-1bd558f8986e",
   "metadata": {},
   "outputs": [
    {
     "name": "stdout",
     "output_type": "stream",
     "text": [
      "The list is sorted in non-decreasing order.\n",
      "The list is not sorted in non-decreasing order.\n"
     ]
    }
   ],
   "source": [
    "def is_sorted(lst):\n",
    "    n = len(lst)\n",
    "    for i in range(1, n):\n",
    "        if lst[i] < lst[i-1]:\n",
    "            return False\n",
    "    return True\n",
    "\n",
    "# Example usage\n",
    "numbers1 = [1, 2, 3, 4, 5]\n",
    "numbers2 = [1, 3, 2, 4, 5]\n",
    "if is_sorted(numbers1):\n",
    "    print(\"The list is sorted in non-decreasing order.\")\n",
    "else:\n",
    "    print(\"The list is not sorted in non-decreasing order.\")\n",
    "\n",
    "if is_sorted(numbers2):\n",
    "    print(\"The list is sorted in non-decreasing order.\")\n",
    "else:\n",
    "    print(\"The list is not sorted in non-decreasing order.\")\n"
   ]
  },
  {
   "cell_type": "markdown",
   "id": "97d65476-a2d1-4153-b2f9-f06286c53cc9",
   "metadata": {},
   "source": [
    "17. Write a Python program to find the intersection of two lists."
   ]
  },
  {
   "cell_type": "code",
   "execution_count": 25,
   "id": "0002bc75-b114-48a3-9592-84931e577e29",
   "metadata": {},
   "outputs": [
    {
     "name": "stdout",
     "output_type": "stream",
     "text": [
      "[3, 4, 5]\n"
     ]
    }
   ],
   "source": [
    "def find_intersection(list1, list2):\n",
    "    intersection = list(set(list1) & set(list2))\n",
    "    return intersection\n",
    "\n",
    "# Example usage\n",
    "list1 = [1, 2, 3, 4, 5]\n",
    "list2 = [3, 4, 5, 6, 7]\n",
    "intersection = find_intersection(list1, list2)\n",
    "print(intersection)  # Output: [3, 4, 5]\n"
   ]
  },
  {
   "cell_type": "markdown",
   "id": "e7b0d17f-7ce8-4143-a325-d6c6dc13d391",
   "metadata": {},
   "source": [
    "18. Implement a function to find the maximum subarray sum in a given list."
   ]
  },
  {
   "cell_type": "code",
   "execution_count": 26,
   "id": "5e7826bf-2ae5-429c-be91-1d2a15097d73",
   "metadata": {},
   "outputs": [
    {
     "name": "stdout",
     "output_type": "stream",
     "text": [
      "7\n"
     ]
    }
   ],
   "source": [
    "def find_max_subarray_sum(lst):\n",
    "    max_sum = float('-inf')  # Initialize max_sum to a very small value\n",
    "    current_sum = 0\n",
    "\n",
    "    for num in lst:\n",
    "        current_sum += num\n",
    "\n",
    "        if current_sum > max_sum:\n",
    "            max_sum = current_sum\n",
    "\n",
    "        if current_sum < 0:\n",
    "            current_sum = 0\n",
    "\n",
    "    return max_sum\n",
    "\n",
    "# Example usage\n",
    "numbers = [1, -3, 2, 1, -1, 4, -2, 3]\n",
    "max_subarray_sum = find_max_subarray_sum(numbers)\n",
    "print(max_subarray_sum)  # Output: 7\n"
   ]
  },
  {
   "cell_type": "markdown",
   "id": "a3f3afef-80e9-4546-8b2a-1631c1cb64dc",
   "metadata": {},
   "source": [
    "19. Write a program to remove all vowels from a given string."
   ]
  },
  {
   "cell_type": "code",
   "execution_count": 27,
   "id": "d71b5368-0fc3-48e3-903e-c6c6a21fa1ca",
   "metadata": {},
   "outputs": [
    {
     "name": "stdout",
     "output_type": "stream",
     "text": [
      "Hll, Wrld!\n"
     ]
    }
   ],
   "source": [
    "def remove_vowels(string):\n",
    "    vowels = ['a', 'e', 'i', 'o', 'u', 'A', 'E', 'I', 'O', 'U']\n",
    "    result = \"\"\n",
    "    for char in string:\n",
    "        if char not in vowels:\n",
    "            result += char\n",
    "    return result\n",
    "\n",
    "# Example usage\n",
    "input_string = \"Hello, World!\"\n",
    "string_without_vowels = remove_vowels(input_string)\n",
    "print(string_without_vowels)  # Output: \"Hll, Wrld!\"\n",
    "\n",
    "\n"
   ]
  },
  {
   "cell_type": "markdown",
   "id": "cde93071-585a-4ac9-8c34-92339efb7125",
   "metadata": {},
   "source": [
    "20. Implement a function to reverse the order of words in a given sentence."
   ]
  },
  {
   "cell_type": "code",
   "execution_count": 28,
   "id": "e5690141-2a39-40bc-bbfb-88b5e2bc7960",
   "metadata": {},
   "outputs": [
    {
     "name": "stdout",
     "output_type": "stream",
     "text": [
      "Python. am I World! Hello,\n"
     ]
    }
   ],
   "source": [
    "def reverse_words(sentence):\n",
    "    words = sentence.split()  # Split the sentence into words\n",
    "    reversed_words = words[::-1]  # Reverse the order of words\n",
    "    reversed_sentence = \" \".join(reversed_words)  # Join the reversed words with spaces\n",
    "    return reversed_sentence\n",
    "\n",
    "# Example usage\n",
    "input_sentence = \"Hello, World! I am Python.\"\n",
    "reversed_sentence = reverse_words(input_sentence)\n",
    "print(reversed_sentence)  # Output: \"Python. am I World! Hello,\"\n"
   ]
  },
  {
   "cell_type": "markdown",
   "id": "935937e6-4084-4135-884f-2c663aff7a62",
   "metadata": {},
   "source": [
    "21. Write a Python program to check if two strings are anagrams of each other."
   ]
  },
  {
   "cell_type": "code",
   "execution_count": 29,
   "id": "2a7959cc-e5f7-4b2c-9aca-eeeeef249ac8",
   "metadata": {},
   "outputs": [
    {
     "name": "stdout",
     "output_type": "stream",
     "text": [
      "The strings are anagrams!\n"
     ]
    }
   ],
   "source": [
    "def are_anagrams(str1, str2):\n",
    "    str1 = str1.lower()  # Convert both strings to lowercase for case-insensitive comparison\n",
    "    str2 = str2.lower()\n",
    "\n",
    "    # Remove spaces and punctuation from both strings\n",
    "    str1 = \"\".join(char for char in str1 if char.isalnum())\n",
    "    str2 = \"\".join(char for char in str2 if char.isalnum())\n",
    "\n",
    "    return sorted(str1) == sorted(str2)\n",
    "\n",
    "# Example usage\n",
    "string1 = \"listen\"\n",
    "string2 = \"silent\"\n",
    "if are_anagrams(string1, string2):\n",
    "    print(\"The strings are anagrams!\")\n",
    "else:\n",
    "    print(\"The strings are not anagrams.\")\n"
   ]
  },
  {
   "cell_type": "markdown",
   "id": "7452717d-29a2-496a-839f-edfe69e0bbf9",
   "metadata": {},
   "source": [
    "22. Implement a function to find the first non-repeating character in a string."
   ]
  },
  {
   "cell_type": "code",
   "execution_count": null,
   "id": "3c9ae6c1-d9cb-4b97-bffc-17e541a5cda7",
   "metadata": {},
   "outputs": [],
   "source": []
  },
  {
   "cell_type": "markdown",
   "id": "7e76581b-481f-4282-9b84-092ba0f84344",
   "metadata": {},
   "source": [
    "23. Write a program to find the prime factors of a given number."
   ]
  },
  {
   "cell_type": "code",
   "execution_count": 30,
   "id": "5bbeaac9-db67-4ed7-9efd-5d98c526d9c0",
   "metadata": {},
   "outputs": [
    {
     "name": "stdin",
     "output_type": "stream",
     "text": [
      "Enter a number:  45\n"
     ]
    },
    {
     "name": "stdout",
     "output_type": "stream",
     "text": [
      "Prime factors of 45 are: [3, 3, 5]\n"
     ]
    }
   ],
   "source": [
    "def find_prime_factors(number):\n",
    "    factors = []\n",
    "    divisor = 2\n",
    "\n",
    "    while divisor <= number:\n",
    "        if number % divisor == 0:\n",
    "            factors.append(divisor)\n",
    "            number = number / divisor\n",
    "        else:\n",
    "            divisor += 1\n",
    "\n",
    "    return factors\n",
    "\n",
    "\n",
    "# Test the function\n",
    "num = int(input(\"Enter a number: \"))\n",
    "prime_factors = find_prime_factors(num)\n",
    "print(\"Prime factors of\", num, \"are:\", prime_factors)\n"
   ]
  },
  {
   "cell_type": "markdown",
   "id": "4fb70031-7e35-4095-86c5-fd317d7b9bc9",
   "metadata": {},
   "source": [
    "24. Implement a function to check if a given number is a power of two."
   ]
  },
  {
   "cell_type": "code",
   "execution_count": null,
   "id": "1663ca69-10ca-432f-8b82-bea7bc9a6b0a",
   "metadata": {},
   "outputs": [],
   "source": [
    "def is_power_of_two(number):\n",
    "    if number <= 0:\n",
    "        return False\n",
    "    return (number & (number - 1)) == 0\n",
    "\n",
    "\n",
    "# Test the function\n",
    "num = int(input(\"Enter a number: \"))\n",
    "if is_power_of_two(num):\n",
    "    print(num, \"is a power of two.\")\n",
    "else:\n",
    "    print(num, \"is not a power of two.\")\n",
    "\n",
    "    "
   ]
  },
  {
   "cell_type": "markdown",
   "id": "b67f87c9-1904-4ef2-9fe5-9353d2d38960",
   "metadata": {},
   "source": [
    "25. Write a Python program to merge two sorted lists into a single sorted list."
   ]
  },
  {
   "cell_type": "code",
   "execution_count": 31,
   "id": "349956d0-50e1-42f0-87e3-48f8338fede6",
   "metadata": {},
   "outputs": [
    {
     "name": "stdout",
     "output_type": "stream",
     "text": [
      "Merged sorted list: [1, 2, 3, 4, 5, 6, 7, 8]\n"
     ]
    }
   ],
   "source": [
    "def merge_sorted_lists(list1, list2):\n",
    "    merged_list = []\n",
    "    i = j = 0\n",
    "\n",
    "    while i < len(list1) and j < len(list2):\n",
    "        if list1[i] <= list2[j]:\n",
    "            merged_list.append(list1[i])\n",
    "            i += 1\n",
    "        else:\n",
    "            merged_list.append(list2[j])\n",
    "            j += 1\n",
    "\n",
    "    # Add the remaining elements from list1, if any\n",
    "    while i < len(list1):\n",
    "        merged_list.append(list1[i])\n",
    "        i += 1\n",
    "\n",
    "    # Add the remaining elements from list2, if any\n",
    "    while j < len(list2):\n",
    "        merged_list.append(list2[j])\n",
    "        j += 1\n",
    "\n",
    "    return merged_list\n",
    "\n",
    "\n",
    "# Test the function\n",
    "list1 = [1, 3, 5, 7]\n",
    "list2 = [2, 4, 6, 8]\n",
    "merged = merge_sorted_lists(list1, list2)\n",
    "print(\"Merged sorted list:\", merged)\n"
   ]
  },
  {
   "cell_type": "markdown",
   "id": "552a0bce-d0e6-4c6f-b21f-b1d0ecaf8e66",
   "metadata": {},
   "source": [
    "26. Implement a function to find the mode of a list of numbers."
   ]
  },
  {
   "cell_type": "code",
   "execution_count": 32,
   "id": "cf89576f-0269-4cc4-ae16-ceb620feab90",
   "metadata": {},
   "outputs": [
    {
     "name": "stdout",
     "output_type": "stream",
     "text": [
      "Mode(s) of the list: [2]\n"
     ]
    }
   ],
   "source": [
    "from collections import Counter\n",
    "\n",
    "def find_mode(numbers):\n",
    "    # Count the occurrences of each number\n",
    "    number_count = Counter(numbers)\n",
    "\n",
    "    # Find the maximum count\n",
    "    max_count = max(number_count.values())\n",
    "\n",
    "    # Find the numbers with the maximum count (modes)\n",
    "    modes = [number for number, count in number_count.items() if count == max_count]\n",
    "\n",
    "    return modes\n",
    "\n",
    "\n",
    "# Test the function\n",
    "numbers = [1, 2, 3, 2, 4, 1, 5, 2, 2]\n",
    "modes = find_mode(numbers)\n",
    "print(\"Mode(s) of the list:\", modes)\n"
   ]
  },
  {
   "cell_type": "markdown",
   "id": "d181d687-93a9-4b22-abed-972d069ab341",
   "metadata": {},
   "source": [
    "27. Write a program to find the greatest common divisor (GCD) of two numbers."
   ]
  },
  {
   "cell_type": "code",
   "execution_count": 33,
   "id": "3a66e052-2f67-48f6-b4ab-67f831f5565a",
   "metadata": {},
   "outputs": [
    {
     "name": "stdin",
     "output_type": "stream",
     "text": [
      "Enter the first number:  45\n",
      "Enter the second number:  45\n"
     ]
    },
    {
     "name": "stdout",
     "output_type": "stream",
     "text": [
      "Greatest Common Divisor (GCD): 45\n"
     ]
    }
   ],
   "source": [
    "def find_gcd(a, b):\n",
    "    while b != 0:\n",
    "        a, b = b, a % b\n",
    "    return a\n",
    "\n",
    "\n",
    "# Test the function\n",
    "num1 = int(input(\"Enter the first number: \"))\n",
    "num2 = int(input(\"Enter the second number: \"))\n",
    "gcd = find_gcd(num1, num2)\n",
    "print(\"Greatest Common Divisor (GCD):\", gcd)\n"
   ]
  },
  {
   "cell_type": "markdown",
   "id": "a74f682f-8a7e-408c-9184-4a744e5b879c",
   "metadata": {},
   "source": [
    "28. Implement a function to calculate the square root of a given number."
   ]
  },
  {
   "cell_type": "code",
   "execution_count": 34,
   "id": "ce1f05d8-a7e4-40ba-91d3-552c0cb4ff06",
   "metadata": {},
   "outputs": [
    {
     "name": "stdin",
     "output_type": "stream",
     "text": [
      "Enter a number:  56\n"
     ]
    },
    {
     "name": "stdout",
     "output_type": "stream",
     "text": [
      "Square root of 56.0 is: 7.483314773547883\n"
     ]
    }
   ],
   "source": [
    "def calculate_square_root(number):\n",
    "    if number < 0:\n",
    "        raise ValueError(\"Cannot calculate square root of a negative number\")\n",
    "\n",
    "    if number == 0:\n",
    "        return 0\n",
    "\n",
    "    # Initial guess for the square root\n",
    "    guess = number / 2\n",
    "\n",
    "    # Iterate until convergence\n",
    "    while True:\n",
    "        new_guess = (guess + number / guess) / 2\n",
    "        if abs(new_guess - guess) < 1e-9:  # Check for convergence\n",
    "            return new_guess\n",
    "        guess = new_guess\n",
    "\n",
    "\n",
    "# Test the function\n",
    "num = float(input(\"Enter a number: \"))\n",
    "square_root = calculate_square_root(num)\n",
    "print(\"Square root of\", num, \"is:\", square_root)\n"
   ]
  },
  {
   "cell_type": "markdown",
   "id": "5b302ed6-f363-4914-b247-46dd18882861",
   "metadata": {},
   "source": [
    "29. Write a Python program to check if a given string is a valid palindrome ignoring non-alphanumeric characters."
   ]
  },
  {
   "cell_type": "code",
   "execution_count": 36,
   "id": "ff5a169b-0525-4014-8f52-e209890f7d90",
   "metadata": {},
   "outputs": [
    {
     "name": "stdin",
     "output_type": "stream",
     "text": [
      "Enter a string:  malayalam\n"
     ]
    },
    {
     "name": "stdout",
     "output_type": "stream",
     "text": [
      "The string is a valid palindrome.\n"
     ]
    }
   ],
   "source": [
    "import re\n",
    "\n",
    "def is_valid_palindrome(string):\n",
    "    # Remove non-alphanumeric characters and convert to lowercase\n",
    "    cleaned_string = re.sub('[^a-zA-Z0-9]', '', string.lower())\n",
    "\n",
    "    # Check if the cleaned string is a palindrome\n",
    "    return cleaned_string == cleaned_string[::-1]\n",
    "\n",
    "\n",
    "# Test the function\n",
    "str_input = input(\"Enter a string: \")\n",
    "if is_valid_palindrome(str_input):\n",
    "    print(\"The string is a valid palindrome.\")\n",
    "else:\n",
    "    print(\"The string is not a valid palindrome.\")\n"
   ]
  },
  {
   "cell_type": "markdown",
   "id": "c2b707c6-5d72-42b0-b4f2-ed058469b617",
   "metadata": {},
   "source": [
    "30. Implement a function to find the minimum element in a rotated sorted list."
   ]
  },
  {
   "cell_type": "code",
   "execution_count": 37,
   "id": "ce2184be-3d7d-4444-891d-5e7f7c776cb9",
   "metadata": {},
   "outputs": [
    {
     "name": "stdout",
     "output_type": "stream",
     "text": [
      "Minimum element in the rotated sorted list: 0\n"
     ]
    }
   ],
   "source": [
    "def find_minimum_element(nums):\n",
    "    left = 0\n",
    "    right = len(nums) - 1\n",
    "\n",
    "    while left < right:\n",
    "        mid = left + (right - left) // 2\n",
    "\n",
    "        if nums[mid] > nums[right]:\n",
    "            left = mid + 1\n",
    "        else:\n",
    "            right = mid\n",
    "\n",
    "    return nums[left]\n",
    "\n",
    "\n",
    "# Test the function\n",
    "rotated_list = [4, 5, 6, 7, 0, 1, 2]\n",
    "minimum = find_minimum_element(rotated_list)\n",
    "print(\"Minimum element in the rotated sorted list:\", minimum)\n",
    "\n"
   ]
  },
  {
   "cell_type": "markdown",
   "id": "5fc5a13f-c2ef-4ff7-880e-e8be8dd498e8",
   "metadata": {},
   "source": [
    "31. Write a program to find the sum of all even numbers in a list."
   ]
  },
  {
   "cell_type": "code",
   "execution_count": 38,
   "id": "520cd948-beec-4e5f-b574-27c68782eeff",
   "metadata": {},
   "outputs": [
    {
     "name": "stdout",
     "output_type": "stream",
     "text": [
      "Sum of even numbers: 30\n"
     ]
    }
   ],
   "source": [
    "def sum_of_even_numbers(numbers):\n",
    "    sum_even = 0\n",
    "\n",
    "    for num in numbers:\n",
    "        if num % 2 == 0:\n",
    "            sum_even += num\n",
    "\n",
    "    return sum_even\n",
    "\n",
    "\n",
    "# Test the function\n",
    "number_list = [1, 2, 3, 4, 5, 6, 7, 8, 9, 10]\n",
    "sum_even_numbers = sum_of_even_numbers(number_list)\n",
    "print(\"Sum of even numbers:\", sum_even_numbers)\n"
   ]
  },
  {
   "cell_type": "markdown",
   "id": "d7fff049-bba8-493f-98be-b8f5915f2287",
   "metadata": {},
   "source": [
    "32. Implement a function to calculate the power of a number using recursion."
   ]
  },
  {
   "cell_type": "code",
   "execution_count": 39,
   "id": "8daa38a1-6469-40bf-91df-a88a1e59d489",
   "metadata": {},
   "outputs": [
    {
     "name": "stdin",
     "output_type": "stream",
     "text": [
      "Enter the base number:  45\n",
      "Enter the exponent:  3\n"
     ]
    },
    {
     "name": "stdout",
     "output_type": "stream",
     "text": [
      "Result: 91125.0\n"
     ]
    }
   ],
   "source": [
    "def power(base, exponent):\n",
    "    if exponent == 0:\n",
    "        return 1\n",
    "    elif exponent < 0:\n",
    "        return 1 / power(base, -exponent)\n",
    "    else:\n",
    "        return base * power(base, exponent - 1)\n",
    "\n",
    "\n",
    "# Test the function\n",
    "base_num = float(input(\"Enter the base number: \"))\n",
    "exp_num = int(input(\"Enter the exponent: \"))\n",
    "result = power(base_num, exp_num)\n",
    "print(\"Result:\", result)\n"
   ]
  },
  {
   "cell_type": "markdown",
   "id": "44d46bc9-f7b8-43b4-a704-74520b231042",
   "metadata": {},
   "source": [
    "33. Write a Python program to remove duplicates from a list while preserving the order."
   ]
  },
  {
   "cell_type": "code",
   "execution_count": 40,
   "id": "f4c2a3b1-be86-4ea2-8587-e45ee376be55",
   "metadata": {},
   "outputs": [
    {
     "name": "stdout",
     "output_type": "stream",
     "text": [
      "List with duplicates removed: [1, 2, 3, 4, 5, 6]\n"
     ]
    }
   ],
   "source": [
    "def remove_duplicates(input_list):\n",
    "    seen = set()\n",
    "    output_list = []\n",
    "\n",
    "    for item in input_list:\n",
    "        if item not in seen:\n",
    "            seen.add(item)\n",
    "            output_list.append(item)\n",
    "\n",
    "    return output_list\n",
    "\n",
    "\n",
    "# Test the function\n",
    "input_list = [1, 2, 3, 2, 4, 5, 6, 1, 3]\n",
    "output_list = remove_duplicates(input_list)\n",
    "print(\"List with duplicates removed:\", output_list)\n"
   ]
  },
  {
   "cell_type": "markdown",
   "id": "cd3b3904-9cb3-405a-b400-02c7a1ecd90c",
   "metadata": {},
   "source": [
    "34. Implement a function to find the longest common prefix among a list of strings."
   ]
  },
  {
   "cell_type": "code",
   "execution_count": 41,
   "id": "1e04f8f7-c0e3-40b2-95b6-c5fc9b614a32",
   "metadata": {},
   "outputs": [
    {
     "name": "stdout",
     "output_type": "stream",
     "text": [
      "Longest common prefix: fl\n"
     ]
    }
   ],
   "source": [
    "def longest_common_prefix(strings):\n",
    "    if not strings:\n",
    "        return \"\"\n",
    "\n",
    "    min_length = min(len(string) for string in strings)\n",
    "    prefix = \"\"\n",
    "\n",
    "    for i in range(min_length):\n",
    "        char = strings[0][i]\n",
    "\n",
    "        if all(string[i] == char for string in strings):\n",
    "            prefix += char\n",
    "        else:\n",
    "            break\n",
    "\n",
    "    return prefix\n",
    "\n",
    "\n",
    "# Test the function\n",
    "string_list = [\"flower\", \"flow\", \"flight\"]\n",
    "common_prefix = longest_common_prefix(string_list)\n",
    "print(\"Longest common prefix:\", common_prefix)\n"
   ]
  },
  {
   "cell_type": "markdown",
   "id": "d79bce45-0034-45c7-8793-f26319d96f40",
   "metadata": {},
   "source": [
    "35. Write a program to check if a given number is a perfect square."
   ]
  },
  {
   "cell_type": "code",
   "execution_count": 2,
   "id": "20c73215-3090-4f97-8224-955dadbbfeda",
   "metadata": {},
   "outputs": [
    {
     "name": "stdin",
     "output_type": "stream",
     "text": [
      "Enter a number:  9\n"
     ]
    },
    {
     "name": "stdout",
     "output_type": "stream",
     "text": [
      "9 is a perfect square.\n"
     ]
    }
   ],
   "source": [
    "def is_perfect_square(number):\n",
    "    if number < 0:\n",
    "        return False\n",
    "\n",
    "    i = 0\n",
    "    while i * i <= number:\n",
    "        if i * i == number:\n",
    "            return True\n",
    "        i += 1\n",
    "\n",
    "    return False\n",
    "\n",
    "\n",
    "# Test the function\n",
    "num = int(input(\"Enter a number: \"))\n",
    "if is_perfect_square(num):\n",
    "    print(num, \"is a perfect square.\")\n",
    "else:\n",
    "    print(num, \"is not a perfect square.\")\n"
   ]
  },
  {
   "cell_type": "markdown",
   "id": "c11a9990-de18-48f1-bb1e-f46246cdca53",
   "metadata": {},
   "source": [
    "36. Implement a function to calculate the product of all elements in a list."
   ]
  },
  {
   "cell_type": "code",
   "execution_count": 3,
   "id": "cdd36ac6-1b36-476d-88ab-19546ac0d502",
   "metadata": {},
   "outputs": [
    {
     "name": "stdout",
     "output_type": "stream",
     "text": [
      "Product of the elements: 120\n"
     ]
    }
   ],
   "source": [
    "def calculate_product(numbers):\n",
    "    if not numbers:\n",
    "        return 1\n",
    "\n",
    "    product = 1\n",
    "    for num in numbers:\n",
    "        product *= num\n",
    "\n",
    "    return product\n",
    "\n",
    "\n",
    "# Test the function\n",
    "number_list = [1, 2, 3, 4, 5]\n",
    "product = calculate_product(number_list)\n",
    "print(\"Product of the elements:\", product)\n"
   ]
  },
  {
   "cell_type": "markdown",
   "id": "4d466655-946f-434c-8996-08b994ca77bb",
   "metadata": {},
   "source": [
    "37. Write a Python program to reverse the order of words in a sentence while preserving the word order."
   ]
  },
  {
   "cell_type": "code",
   "execution_count": 4,
   "id": "9495f577-32e1-4bf3-a0a5-a0178f08beb4",
   "metadata": {},
   "outputs": [
    {
     "name": "stdin",
     "output_type": "stream",
     "text": [
      "Enter a sentence:  this is a python program\n"
     ]
    },
    {
     "name": "stdout",
     "output_type": "stream",
     "text": [
      "Reversed sentence: program python a is this\n"
     ]
    }
   ],
   "source": [
    "def reverse_sentence(sentence):\n",
    "    words = sentence.split()\n",
    "    reversed_words = words[::-1]\n",
    "    reversed_sentence = \" \".join(reversed_words)\n",
    "    return reversed_sentence\n",
    "\n",
    "\n",
    "# Test the function\n",
    "input_sentence = input(\"Enter a sentence: \")\n",
    "reversed_sentence = reverse_sentence(input_sentence)\n",
    "print(\"Reversed sentence:\", reversed_sentence)\n"
   ]
  },
  {
   "cell_type": "markdown",
   "id": "0ba9160b-f556-4731-b4b0-a464cd65f09e",
   "metadata": {},
   "source": [
    "38. Implement a function to find the missing number in a given list of consecutive numbers."
   ]
  },
  {
   "cell_type": "code",
   "execution_count": 7,
   "id": "5910062c-3be5-4e78-a12c-7abf5ad06bcc",
   "metadata": {},
   "outputs": [
    {
     "name": "stdout",
     "output_type": "stream",
     "text": [
      "Missing number: 4\n"
     ]
    }
   ],
   "source": [
    "def find_missing_number(numbers):\n",
    "    n = len(numbers) + 1\n",
    "    total_sum = (n * (n + 1)) // 2\n",
    "    actual_sum = sum(numbers)\n",
    "    missing_number = total_sum - actual_sum\n",
    "    return missing_number\n",
    "\n",
    "\n",
    "# Test the function\n",
    "number_list = [1, 2, 3, 5, 6, 7, 8]\n",
    "missing_number = find_missing_number(number_list)\n",
    "print(\"Missing number:\", missing_number)\n"
   ]
  },
  {
   "cell_type": "markdown",
   "id": "a100bc68-57e4-4db0-9d81-5daff14c2880",
   "metadata": {},
   "source": [
    "39. Write a program to find the sum of digits of a given number."
   ]
  },
  {
   "cell_type": "code",
   "execution_count": 8,
   "id": "6520aebe-c622-4cee-89b1-abb40ea541d6",
   "metadata": {},
   "outputs": [
    {
     "name": "stdin",
     "output_type": "stream",
     "text": [
      "Enter a number:  45\n"
     ]
    },
    {
     "name": "stdout",
     "output_type": "stream",
     "text": [
      "Sum of digits: 9\n"
     ]
    }
   ],
   "source": [
    "def sum_of_digits(number):\n",
    "    # Convert the number to a string\n",
    "    number_str = str(number)\n",
    "\n",
    "    # Initialize the sum\n",
    "    digit_sum = 0\n",
    "\n",
    "    # Iterate over each character in the string\n",
    "    for digit_char in number_str:\n",
    "        # Convert the character back to an integer\n",
    "        digit = int(digit_char)\n",
    "\n",
    "        # Add the digit to the sum\n",
    "        digit_sum += digit\n",
    "\n",
    "    return digit_sum\n",
    "\n",
    "\n",
    "# Test the function\n",
    "num = int(input(\"Enter a number: \"))\n",
    "sum_digits = sum_of_digits(num)\n",
    "print(\"Sum of digits:\", sum_digits)\n",
    "\n"
   ]
  },
  {
   "cell_type": "markdown",
   "id": "6f693301-d49a-4dc1-a3a1-b141c38e1641",
   "metadata": {},
   "source": [
    "40. Implement a function to check if a given string is a valid palindrome considering case sensitivity."
   ]
  },
  {
   "cell_type": "code",
   "execution_count": 9,
   "id": "876f1b59-bfb4-48cc-a873-9ca264f5b742",
   "metadata": {},
   "outputs": [
    {
     "name": "stdin",
     "output_type": "stream",
     "text": [
      "Enter a string:  Malayalam\n"
     ]
    },
    {
     "name": "stdout",
     "output_type": "stream",
     "text": [
      "The string is a valid palindrome.\n"
     ]
    }
   ],
   "source": [
    "def is_valid_palindrome(string):\n",
    "    # Remove spaces and convert to lowercase\n",
    "    string = string.replace(\" \", \"\").lower()\n",
    "\n",
    "    # Check if the string is equal to its reverse\n",
    "    return string == string[::-1]\n",
    "\n",
    "\n",
    "# Test the function\n",
    "input_string = input(\"Enter a string: \")\n",
    "if is_valid_palindrome(input_string):\n",
    "    print(\"The string is a valid palindrome.\")\n",
    "else:\n",
    "    print(\"The string is not a valid palindrome.\")\n"
   ]
  },
  {
   "cell_type": "markdown",
   "id": "55b025df-0682-4a80-963e-66fbe08ed6e4",
   "metadata": {},
   "source": [
    "41. Write a Python program to find the smallest missing positive integer in a list."
   ]
  },
  {
   "cell_type": "code",
   "execution_count": 10,
   "id": "2e8984c2-b5db-46d7-802d-fa8f50704352",
   "metadata": {},
   "outputs": [
    {
     "name": "stdout",
     "output_type": "stream",
     "text": [
      "Smallest missing positive integer: 2\n"
     ]
    }
   ],
   "source": [
    "def find_smallest_missing_positive(nums):\n",
    "    n = len(nums)\n",
    "\n",
    "    # Step 1: Separate positive numbers\n",
    "    positives = []\n",
    "    for num in nums:\n",
    "        if num > 0:\n",
    "            positives.append(num)\n",
    "\n",
    "    # Step 2: Mark visited indices\n",
    "    for i in range(len(positives)):\n",
    "        num = abs(positives[i])\n",
    "        if num <= len(positives):\n",
    "            positives[num - 1] = -abs(positives[num - 1])\n",
    "\n",
    "    # Step 3: Find smallest missing positive integer\n",
    "    for i in range(len(positives)):\n",
    "        if positives[i] > 0:\n",
    "            return i + 1\n",
    "\n",
    "    return len(positives) + 1\n",
    "\n",
    "\n",
    "# Test the function\n",
    "number_list = [3, 4, -1, 1]\n",
    "smallest_missing = find_smallest_missing_positive(number_list)\n",
    "print(\"Smallest missing positive integer:\", smallest_missing)\n"
   ]
  },
  {
   "cell_type": "markdown",
   "id": "caf96c6c-5fd1-42e1-b965-194486308d4d",
   "metadata": {},
   "source": [
    "42. Implement a function to find the longest palindrome substring in a given string."
   ]
  },
  {
   "cell_type": "code",
   "execution_count": null,
   "id": "76da025c-2a2c-43ab-981b-ceac0060f79b",
   "metadata": {},
   "outputs": [],
   "source": []
  },
  {
   "cell_type": "markdown",
   "id": "25fad4ae-af5b-4a77-8a9e-63622610a07c",
   "metadata": {},
   "source": [
    "43. Write a program to find the number of occurrences of a given element in a list."
   ]
  },
  {
   "cell_type": "code",
   "execution_count": 11,
   "id": "e7d58fa1-a00c-4ccb-9093-9f7430e918db",
   "metadata": {},
   "outputs": [
    {
     "name": "stdout",
     "output_type": "stream",
     "text": [
      "Number of occurrences of 2 : 3\n"
     ]
    }
   ],
   "source": [
    "def count_occurrences(numbers, element):\n",
    "    count = 0\n",
    "\n",
    "    for num in numbers:\n",
    "        if num == element:\n",
    "            count += 1\n",
    "\n",
    "    return count\n",
    "\n",
    "\n",
    "# Test the function\n",
    "number_list = [1, 2, 3, 2, 4, 5, 2]\n",
    "element = 2\n",
    "occurrences = count_occurrences(number_list, element)\n",
    "print(\"Number of occurrences of\", element, \":\", occurrences)\n"
   ]
  },
  {
   "cell_type": "markdown",
   "id": "ce2c5576-d653-4207-b670-b55457f9caf6",
   "metadata": {},
   "source": [
    "44. Implement a function to check if a given number is a perfect number."
   ]
  },
  {
   "cell_type": "code",
   "execution_count": 14,
   "id": "361dbf7b-1610-4753-9f4f-625a4cd51bd5",
   "metadata": {},
   "outputs": [
    {
     "name": "stdin",
     "output_type": "stream",
     "text": [
      "Enter a number:  6\n"
     ]
    },
    {
     "name": "stdout",
     "output_type": "stream",
     "text": [
      "6 is a perfect number.\n"
     ]
    }
   ],
   "source": [
    "def is_perfect_number(number):\n",
    "    if number <= 0:\n",
    "        return False\n",
    "\n",
    "    divisors = []\n",
    "    for i in range(1, number):\n",
    "        if number % i == 0:\n",
    "            divisors.append(i)\n",
    "\n",
    "    divisor_sum = sum(divisors)\n",
    "    return divisor_sum == number\n",
    "\n",
    "\n",
    "# Test the function\n",
    "num = int(input(\"Enter a number: \"))\n",
    "if is_perfect_number(num):\n",
    "    print(num, \"is a perfect number.\")\n",
    "else:\n",
    "    print(num, \"is not a perfect number.\")\n"
   ]
  },
  {
   "cell_type": "markdown",
   "id": "78cc4349-911a-41df-85c4-9f0c9cb9fa46",
   "metadata": {},
   "source": [
    "45. Write a Python program to remove all duplicates from a string."
   ]
  },
  {
   "cell_type": "code",
   "execution_count": 16,
   "id": "8cb0b138-e4f2-4f32-ad81-0add826524fd",
   "metadata": {},
   "outputs": [
    {
     "name": "stdin",
     "output_type": "stream",
     "text": [
      "Enter a string:  This is is a sample string\n"
     ]
    },
    {
     "name": "stdout",
     "output_type": "stream",
     "text": [
      "String with duplicates removed: This ampletrng\n"
     ]
    }
   ],
   "source": [
    "def remove_duplicates(string):\n",
    "    # Convert the string to a list of characters\n",
    "    chars = list(string)\n",
    "\n",
    "    # Create a set to store unique characters\n",
    "    unique_chars = set()\n",
    "\n",
    "    # Iterate over the list of characters\n",
    "    i = 0\n",
    "    while i < len(chars):\n",
    "        # If the character is already in the set, remove it from the list\n",
    "        if chars[i] in unique_chars:\n",
    "            chars.pop(i)\n",
    "        else:\n",
    "            # Otherwise, add it to the set and move to the next character\n",
    "            unique_chars.add(chars[i])\n",
    "            i += 1\n",
    "\n",
    "    # Convert the list of characters back to a string\n",
    "    unique_string = \"\".join(chars)\n",
    "\n",
    "    return unique_string\n",
    "\n",
    "\n",
    "# Test the function\n",
    "input_string = input(\"Enter a string: \")\n",
    "unique_string = remove_duplicates(input_string)\n",
    "print(\"String with duplicates removed:\", unique_string)\n",
    "\n"
   ]
  },
  {
   "cell_type": "markdown",
   "id": "1df40554-332f-431a-9623-e9dac324848d",
   "metadata": {},
   "source": [
    "46. Implement a function to find the first missing positive"
   ]
  },
  {
   "cell_type": "code",
   "execution_count": null,
   "id": "431cc850-e45f-4a94-974e-c04d69a9b960",
   "metadata": {},
   "outputs": [],
   "source": []
  }
 ],
 "metadata": {
  "kernelspec": {
   "display_name": "Python 3 (ipykernel)",
   "language": "python",
   "name": "python3"
  },
  "language_info": {
   "codemirror_mode": {
    "name": "ipython",
    "version": 3
   },
   "file_extension": ".py",
   "mimetype": "text/x-python",
   "name": "python",
   "nbconvert_exporter": "python",
   "pygments_lexer": "ipython3",
   "version": "3.10.8"
  }
 },
 "nbformat": 4,
 "nbformat_minor": 5
}
