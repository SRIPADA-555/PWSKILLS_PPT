{
  "nbformat": 4,
  "nbformat_minor": 0,
  "metadata": {
    "colab": {
      "provenance": []
    },
    "kernelspec": {
      "name": "python3",
      "display_name": "Python 3"
    },
    "language_info": {
      "name": "python"
    }
  },
  "cells": [
    {
      "cell_type": "markdown",
      "source": [
        "1. Scenario: A company wants to analyze the sales performance of its products in different regions. They have collected the following data:\n",
        "   Region A: [10, 15, 12, 8, 14]\n",
        "   Region B: [18, 20, 16, 22, 25]\n",
        "   Calculate the mean sales for each region.\n",
        "\n",
        "2. Scenario: A survey is conducted to measure customer satisfaction on a scale of 1 to 5. The data collected is as follows:\n",
        "   [4, 5, 2, 3, 5, 4, 3, 2, 4, 5]\n",
        "   Calculate the mode of the survey responses.\n",
        "\n",
        "3. Scenario: A company wants to compare the salaries of two departments. The salary data for Department A and Department B are as follows:\n",
        "   Department A: [5000, 6000, 5500, 7000]\n",
        "   Department B: [4500, 5500, 5800, 6000, 5200]\n",
        "   Calculate the median salary for each department.\n",
        "\n",
        "4. Scenario: A data analyst wants to determine the variability in the daily stock prices of a company. The data collected is as follows:\n",
        "   [25.5, 24.8, 26.1, 25.3, 24.9]\n",
        "   Calculate the range of the stock prices.\n",
        "\n",
        "5. Scenario: A study is conducted to compare the performance of two different teaching methods. The test scores of the students in each group are as follows:\n",
        "   Group A: [85, 90, 92, 88, 91]\n",
        "   Group B: [82, 88, 90, 86, 87]\n",
        "   Perform a t-test to determine if there is a significant difference in the mean scores between the two groups.\n",
        "\n",
        "6. Scenario: A company wants to analyze the relationship between advertising expenditure and sales. The data collected is as follows:\n",
        "   Advertising Expenditure (in thousands): [10, 15, 12, 8, 14]\n",
        "   Sales (in thousands): [25, 30, 28, 20, 26]\n",
        "   Calculate the correlation coefficient between advertising expenditure and sales.\n",
        "\n",
        "7. Scenario: A survey is conducted to measure the heights of a group of people. The data collected is as follows:\n",
        "   [160, 170, 165, 155, 175, 180, 170]\n",
        "   Calculate the standard deviation of the heights.\n",
        "\n",
        "8. Scenario: A company wants to analyze the relationship between employee tenure and job satisfaction. The data collected is as follows:\n",
        "   Employee Tenure (in years): [2, 3, 5, 4, 6, 2, 4]\n",
        "   Job Satisfaction (on a scale of 1 to 10): [7, 8, 6, 9, 5, 7, 6]\n",
        "   Perform a linear regression analysis to predict job satisfaction based on employee tenure.\n",
        "\n",
        "9. Scenario: A study is conducted to compare the effectiveness of two different medications. The recovery times of the patients in each group are as follows:\n",
        "   Medication A: [10, 12, 14, 11, 13]\n",
        "   Medication B: [15, 17, 16, 14, 18]\n",
        "   Perform an analysis of variance (ANOVA) to determine if there is a significant difference in the mean recovery times between the two medications.\n",
        "\n",
        "10. Scenario: A company wants to analyze customer feedback ratings on a scale of 1 to 10. The data collected is\n",
        "\n",
        " as follows:\n",
        "    [8, 9, 7, 6, 8, 10, 9, 8, 7, 8]\n",
        "    Calculate the 75th percentile of the feedback ratings.\n",
        "\n",
        "11. Scenario: A quality control department wants to test the weight consistency of a product. The weights of a sample of products are as follows:\n",
        "    [10.2, 9.8, 10.0, 10.5, 10.3, 10.1]\n",
        "    Perform a hypothesis test to determine if the mean weight differs significantly from 10 grams.\n",
        "\n",
        "12. Scenario: A company wants to analyze the click-through rates of two different website designs. The number of clicks for each design is as follows:\n",
        "    Design A: [100, 120, 110, 90, 95]\n",
        "    Design B: [80, 85, 90, 95, 100]\n",
        "    Perform a chi-square test to determine if there is a significant difference in the click-through rates between the two designs.\n",
        "\n",
        "13. Scenario: A survey is conducted to measure customer satisfaction with a product on a scale of 1 to 10. The data collected is as follows:\n",
        "    [7, 9, 6, 8, 10, 7, 8, 9, 7, 8]\n",
        "    Calculate the 95% confidence interval for the population mean satisfaction score.\n",
        "\n",
        "14. Scenario: A company wants to analyze the effect of temperature on product performance. The data collected is as follows:\n",
        "    Temperature (in degrees Celsius): [20, 22, 23, 19, 21]\n",
        "    Performance (on a scale of 1 to 10): [8, 7, 9, 6, 8]\n",
        "    Perform a simple linear regression to predict performance based on temperature.\n",
        "\n",
        "15. Scenario: A study is conducted to compare the preferences of two groups of participants. The preferences are measured on a Likert scale from 1 to 5. The data collected is as follows:\n",
        "    Group A: [4, 3, 5, 2, 4]\n",
        "    Group B: [3, 2, 4, 3, 3]\n",
        "    Perform a Mann-Whitney U test to determine if there is a significant difference in the median preferences between the two groups.\n",
        "\n",
        "16. Scenario: A company wants to analyze the distribution of customer ages. The data collected is as follows:\n",
        "    [25, 30, 35, 40, 45, 50, 55, 60, 65, 70]\n",
        "    Calculate the interquartile range (IQR) of the ages.\n",
        "\n",
        "17. Scenario: A study is conducted to compare the performance of three different machine learning algorithms. The accuracy scores for each algorithm are as follows:\n",
        "    Algorithm A: [0.85, 0.80, 0.82, 0.87, 0.83]\n",
        "    Algorithm B: [0.78, 0.82, 0.84, 0.80, 0.79]\n",
        "    Algorithm C: [0.90, 0.88, 0.89, 0.86, 0.87]\n",
        "    Perform a Kruskal-Wallis test to determine if there is a significant difference in the median accuracy scores between the algorithms.\n",
        "\n",
        "18. Scenario: A company wants to analyze the effect of price on sales. The data collected is as follows:\n",
        "    Price (in dollars): [10, 15, 12, 8, 14]\n",
        "    Sales: [100, 80, 90, 110, 95]\n",
        "    Perform a simple linear regression to predict\n",
        "\n",
        " sales based on price.\n",
        "\n",
        "19. Scenario: A survey is conducted to measure the satisfaction levels of customers with a new product. The data collected is as follows:\n",
        "    [7, 8, 9, 6, 8, 7, 9, 7, 8, 7]\n",
        "    Calculate the standard error of the mean satisfaction score.\n",
        "\n",
        "20. Scenario: A company wants to analyze the relationship between advertising expenditure and sales. The data collected is as follows:\n",
        "    Advertising Expenditure (in thousands): [10, 15, 12, 8, 14]\n",
        "    Sales (in thousands): [25, 30, 28, 20, 26]\n",
        "    Perform a multiple regression analysis to predict sales based on advertising expenditure."
      ],
      "metadata": {
        "id": "XgSCmRI1SFK5"
      }
    },
    {
      "cell_type": "code",
      "execution_count": 3,
      "metadata": {
        "colab": {
          "base_uri": "https://localhost:8080/"
        },
        "id": "CJ4YHrgFR0cS",
        "outputId": "ed3afaf5-d44b-47a6-88ff-75da676680e1"
      },
      "outputs": [
        {
          "output_type": "stream",
          "name": "stdout",
          "text": [
            "Mean sales of Region A: 11.8\n",
            "Mean sales of Region B: 20.2\n"
          ]
        }
      ],
      "source": [
        "#1\n",
        "import numpy as np\n",
        "A = [10, 15, 12, 8, 14]\n",
        "B = [18, 20, 16, 22, 25]\n",
        "print(f'Mean sales of Region A: {np.mean(A)}')\n",
        "print(f'Mean sales of Region B: {np.mean(B)}')"
      ]
    },
    {
      "cell_type": "code",
      "source": [
        "#2\n",
        "def calculate_mode(data):\n",
        "    mode_count = 0\n",
        "    mode_value = None\n",
        "\n",
        "    for value in data:\n",
        "        count = data.count(value)\n",
        "        if count > mode_count:\n",
        "            mode_count = count\n",
        "            mode_value = value\n",
        "\n",
        "    return mode_value\n",
        "\n",
        "data = [4, 5, 2, 3, 5, 4, 3, 2, 4, 5]\n",
        "mode = calculate_mode(data)\n",
        "\n",
        "print(\"Mode:\", mode)\n"
      ],
      "metadata": {
        "colab": {
          "base_uri": "https://localhost:8080/"
        },
        "id": "JbfBa3buSbXZ",
        "outputId": "d8c4a331-042c-4014-b6df-a2b0bdf13b19"
      },
      "execution_count": 4,
      "outputs": [
        {
          "output_type": "stream",
          "name": "stdout",
          "text": [
            "Mode: 4\n"
          ]
        }
      ]
    },
    {
      "cell_type": "code",
      "source": [
        "#3\n",
        "import statistics\n",
        "\n",
        "department_A = [5000, 6000, 5500, 7000]\n",
        "department_B = [4500, 5500, 5800, 6000, 5200]\n",
        "\n",
        "median_A = statistics.median(department_A)\n",
        "median_B = statistics.median(department_B)\n",
        "\n",
        "print(\"Median salary for Department A:\", median_A)\n",
        "print(\"Median salary for Department B:\", median_B)\n"
      ],
      "metadata": {
        "colab": {
          "base_uri": "https://localhost:8080/"
        },
        "id": "VUpxk0H0Tm-P",
        "outputId": "7351b269-659c-490e-830a-0afd47fbf7f0"
      },
      "execution_count": 5,
      "outputs": [
        {
          "output_type": "stream",
          "name": "stdout",
          "text": [
            "Median salary for Department A: 5750.0\n",
            "Median salary for Department B: 5500\n"
          ]
        }
      ]
    },
    {
      "cell_type": "code",
      "source": [
        "#4\n",
        "stock_prices = [25.5, 24.8, 26.1, 25.3, 24.9]\n",
        "\n",
        "price_range = max(stock_prices) - min(stock_prices)\n",
        "\n",
        "print(\"Range of stock prices:\", price_range)\n"
      ],
      "metadata": {
        "colab": {
          "base_uri": "https://localhost:8080/"
        },
        "id": "9c3AsjW4T2Q4",
        "outputId": "69c16a2a-a5b2-46af-8c46-e8593ebb313f"
      },
      "execution_count": 6,
      "outputs": [
        {
          "output_type": "stream",
          "name": "stdout",
          "text": [
            "Range of stock prices: 1.3000000000000007\n"
          ]
        }
      ]
    },
    {
      "cell_type": "code",
      "source": [
        "#5\n",
        "from scipy.stats import ttest_ind\n",
        "\n",
        "group_A = [85, 90, 92, 88, 91]\n",
        "group_B = [82, 88, 90, 86, 87]\n",
        "\n",
        "# Perform independent t-test\n",
        "t_statistic, p_value = ttest_ind(group_A, group_B)\n",
        "\n",
        "# Print the results\n",
        "print(\"T-Statistic:\", t_statistic)\n",
        "print(\"P-Value:\", p_value)\n"
      ],
      "metadata": {
        "colab": {
          "base_uri": "https://localhost:8080/"
        },
        "id": "ie92ZIU2UNAd",
        "outputId": "04a697e4-2661-4655-ed61-3c91e8f05aa5"
      },
      "execution_count": 7,
      "outputs": [
        {
          "output_type": "stream",
          "name": "stdout",
          "text": [
            "T-Statistic: 1.4312528946642733\n",
            "P-Value: 0.19023970239078333\n"
          ]
        }
      ]
    },
    {
      "cell_type": "code",
      "source": [
        "#6\n",
        "from scipy.stats import pearsonr\n",
        "\n",
        "advertising_expenditure = [10, 15, 12, 8, 14]\n",
        "sales = [25, 30, 28, 20, 26]\n",
        "\n",
        "# Calculate the correlation coefficient and p-value\n",
        "correlation_coefficient, p_value = pearsonr(advertising_expenditure, sales)\n",
        "\n",
        "# Print the results\n",
        "print(\"Correlation Coefficient:\", correlation_coefficient)\n",
        "print(\"P-Value:\", p_value)\n"
      ],
      "metadata": {
        "colab": {
          "base_uri": "https://localhost:8080/"
        },
        "id": "xw-5ngbpUtco",
        "outputId": "4230be2c-79f6-4ac9-b32f-b2ff9e0947c4"
      },
      "execution_count": 8,
      "outputs": [
        {
          "output_type": "stream",
          "name": "stdout",
          "text": [
            "Correlation Coefficient: 0.8757511375750133\n",
            "P-Value: 0.05158319418821718\n"
          ]
        }
      ]
    },
    {
      "cell_type": "code",
      "source": [
        "#7\n",
        "heights = [160, 170, 165, 155, 175, 180, 170]\n",
        "print(f'Standard Deviation of heights is: {np.std(heights)}')"
      ],
      "metadata": {
        "colab": {
          "base_uri": "https://localhost:8080/"
        },
        "id": "wajcDJDkWPVQ",
        "outputId": "2ea82cb5-75c2-469b-eb35-9f3a82324344"
      },
      "execution_count": 9,
      "outputs": [
        {
          "output_type": "stream",
          "name": "stdout",
          "text": [
            "Standard Deviation of heights is: 7.953949089757174\n"
          ]
        }
      ]
    },
    {
      "cell_type": "code",
      "source": [
        "#8\n",
        "from scipy.stats import linregress\n",
        "\n",
        "employee_tenure = [2, 3, 5, 4, 6, 2, 4]\n",
        "job_satisfaction = [7, 8, 6, 9, 5, 7, 6]\n",
        "\n",
        "# Perform linear regression analysis\n",
        "slope, intercept, r_value, p_value, std_err = linregress(employee_tenure, job_satisfaction)\n",
        "\n",
        "# Print the results\n",
        "print(\"Slope:\", slope)\n",
        "print(\"Intercept:\", intercept)\n",
        "print(\"R-Value (Correlation Coefficient):\", r_value)\n",
        "print(\"P-Value:\", p_value)\n",
        "print(\"Standard Error:\", std_err)\n"
      ],
      "metadata": {
        "colab": {
          "base_uri": "https://localhost:8080/"
        },
        "id": "XRSJGfniWu-A",
        "outputId": "78ce1a30-aa9d-4ab6-80a9-0d354581d9eb"
      },
      "execution_count": 10,
      "outputs": [
        {
          "output_type": "stream",
          "name": "stdout",
          "text": [
            "Slope: -0.4680851063829787\n",
            "Intercept: 8.595744680851062\n",
            "R-Value (Correlation Coefficient): -0.520573376708331\n",
            "P-Value: 0.23095550952297988\n",
            "Standard Error: 0.34333860006713723\n"
          ]
        }
      ]
    },
    {
      "cell_type": "code",
      "source": [
        "#9\n",
        "from scipy.stats import f_oneway\n",
        "\n",
        "medication_A = [10, 12, 14, 11, 13]\n",
        "medication_B = [15, 17, 16, 14, 18]\n",
        "\n",
        "# Perform ANOVA\n",
        "f_statistic, p_value = f_oneway(medication_A, medication_B)\n",
        "\n",
        "# Print the results\n",
        "print(\"F-Statistic:\", f_statistic)\n",
        "print(\"P-Value:\", p_value)\n"
      ],
      "metadata": {
        "colab": {
          "base_uri": "https://localhost:8080/"
        },
        "id": "z5mCG6v6W7wW",
        "outputId": "c560425f-c0e2-468d-c379-dd624d6d350a"
      },
      "execution_count": 11,
      "outputs": [
        {
          "output_type": "stream",
          "name": "stdout",
          "text": [
            "F-Statistic: 16.0\n",
            "P-Value: 0.003949772803445326\n"
          ]
        }
      ]
    },
    {
      "cell_type": "code",
      "source": [
        "#10\n",
        "feedback_ratings = [8, 9, 7, 6, 8, 10, 9, 8, 7, 8]\n",
        "\n",
        "percentile_75 = np.percentile(feedback_ratings, 75)\n",
        "\n",
        "print(\"75th percentile of feedback ratings:\", percentile_75)\n"
      ],
      "metadata": {
        "colab": {
          "base_uri": "https://localhost:8080/"
        },
        "id": "2MrerahJXLpe",
        "outputId": "50b1f197-a93c-439a-c457-c5b25f553182"
      },
      "execution_count": 12,
      "outputs": [
        {
          "output_type": "stream",
          "name": "stdout",
          "text": [
            "75th percentile of feedback ratings: 8.75\n"
          ]
        }
      ]
    },
    {
      "cell_type": "code",
      "source": [
        "#11\n",
        "from scipy.stats import ttest_1samp\n",
        "\n",
        "sample_weights = [10.2, 9.8, 10.0, 10.5, 10.3, 10.1]\n",
        "population_mean = 10.0\n",
        "\n",
        "# Perform one-sample t-test\n",
        "t_statistic, p_value = ttest_1samp(sample_weights, population_mean)\n",
        "\n",
        "# Print the results\n",
        "print(\"T-Statistic:\", t_statistic)\n",
        "print(\"P-Value:\", p_value)\n"
      ],
      "metadata": {
        "colab": {
          "base_uri": "https://localhost:8080/"
        },
        "id": "laNBV5_LXeXQ",
        "outputId": "74127110-6a87-4c63-fcf8-cfe3a06b25da"
      },
      "execution_count": 13,
      "outputs": [
        {
          "output_type": "stream",
          "name": "stdout",
          "text": [
            "T-Statistic: 1.5126584522688367\n",
            "P-Value: 0.19077595151110102\n"
          ]
        }
      ]
    },
    {
      "cell_type": "code",
      "source": [
        "#12\n",
        "from scipy.stats import chi2_contingency\n",
        "\n",
        "design_A = [100, 120, 110, 90, 95]\n",
        "design_B = [80, 85, 90, 95, 100]\n",
        "\n",
        "# Create a contingency table\n",
        "observed = [design_A, design_B]\n",
        "\n",
        "# Perform chi-square test\n",
        "chi2_statistic, p_value, _, _ = chi2_contingency(observed)\n",
        "\n",
        "# Print the results\n",
        "print(\"Chi-square Statistic:\", chi2_statistic)\n",
        "print(\"P-Value:\", p_value)\n"
      ],
      "metadata": {
        "colab": {
          "base_uri": "https://localhost:8080/"
        },
        "id": "pPSE3edQXrVt",
        "outputId": "d2d505d5-68bc-460c-a95a-b4ce8d859be8"
      },
      "execution_count": 18,
      "outputs": [
        {
          "output_type": "stream",
          "name": "stdout",
          "text": [
            "Chi-square Statistic: 6.110658166925435\n",
            "P-Value: 0.19103526314060293\n"
          ]
        }
      ]
    },
    {
      "cell_type": "code",
      "source": [
        "#13\n",
        "from scipy import stats\n",
        "\n",
        "satisfaction_scores = [7, 9, 6, 8, 10, 7, 8, 9, 7, 8]\n",
        "\n",
        "# Calculate the mean and standard error of the sample\n",
        "sample_mean = np.mean(satisfaction_scores)\n",
        "sample_std = np.std(satisfaction_scores, ddof=1)  # ddof=1 for sample standard deviation\n",
        "n = len(satisfaction_scores)\n",
        "\n",
        "# Set the desired confidence level\n",
        "confidence_level = 0.95\n",
        "\n",
        "# Calculate the critical value (z-score) for the confidence level\n",
        "critical_value = stats.t.ppf(1 - (1 - confidence_level) / 2, df=n-1)\n",
        "\n",
        "# Calculate the margin of error\n",
        "margin_of_error = critical_value * (sample_std / np.sqrt(n))\n",
        "\n",
        "# Calculate the confidence interval\n",
        "confidence_interval = (sample_mean - margin_of_error, sample_mean + margin_of_error)\n",
        "\n",
        "# Print the results\n",
        "print(\"95% Confidence Interval:\", confidence_interval)\n"
      ],
      "metadata": {
        "colab": {
          "base_uri": "https://localhost:8080/"
        },
        "id": "3eARmEM_a9za",
        "outputId": "25b33e17-52e4-4de3-bebe-23831f069177"
      },
      "execution_count": 20,
      "outputs": [
        {
          "output_type": "stream",
          "name": "stdout",
          "text": [
            "95% Confidence Interval: (7.043561120599888, 8.756438879400113)\n"
          ]
        }
      ]
    },
    {
      "cell_type": "code",
      "source": [
        "#14\n",
        "import numpy as np\n",
        "from scipy.stats import linregress\n",
        "\n",
        "temperature = [20, 22, 23, 19, 21]\n",
        "performance = [8, 7, 9, 6, 8]\n",
        "\n",
        "# Perform linear regression\n",
        "slope, intercept, r_value, p_value, std_err = linregress(temperature, performance)\n",
        "\n",
        "# Print the results\n",
        "print(\"Slope:\", slope)\n",
        "print(\"Intercept:\", intercept)\n",
        "print(\"R-Value (Correlation Coefficient):\", r_value)\n",
        "print(\"P-Value:\", p_value)\n",
        "print(\"Standard Error:\", std_err)\n"
      ],
      "metadata": {
        "colab": {
          "base_uri": "https://localhost:8080/"
        },
        "id": "JIUBA3mCbc5s",
        "outputId": "8c56e1ee-8504-4348-839d-5fd88c91c10f"
      },
      "execution_count": 22,
      "outputs": [
        {
          "output_type": "stream",
          "name": "stdout",
          "text": [
            "Slope: 0.5\n",
            "Intercept: -2.9000000000000004\n",
            "R-Value (Correlation Coefficient): 0.6933752452815364\n",
            "P-Value: 0.19417134561205843\n",
            "Standard Error: 0.30000000000000004\n"
          ]
        }
      ]
    },
    {
      "cell_type": "code",
      "source": [
        "#15\n",
        "from scipy.stats import mannwhitneyu\n",
        "\n",
        "group_A = [4, 3, 5, 2, 4]\n",
        "group_B = [3, 2, 4, 3, 3]\n",
        "\n",
        "# Perform Mann-Whitney U test\n",
        "statistic, p_value = mannwhitneyu(group_A, group_B, alternative='two-sided')\n",
        "\n",
        "# Print the results\n",
        "print(\"Mann-Whitney U statistic:\", statistic)\n",
        "print(\"P-Value:\", p_value)\n"
      ],
      "metadata": {
        "colab": {
          "base_uri": "https://localhost:8080/"
        },
        "id": "fj1eIqyToTXS",
        "outputId": "ab1d3f6c-df5d-4caf-b544-8817b4625bc0"
      },
      "execution_count": 23,
      "outputs": [
        {
          "output_type": "stream",
          "name": "stdout",
          "text": [
            "Mann-Whitney U statistic: 17.0\n",
            "P-Value: 0.380836480306712\n"
          ]
        }
      ]
    },
    {
      "cell_type": "code",
      "source": [
        "#16\n",
        "ages = [25, 30, 35, 40, 45, 50, 55, 60, 65, 70]\n",
        "\n",
        "# Calculate the first quartile (Q1)\n",
        "q1 = np.percentile(ages, 25)\n",
        "\n",
        "# Calculate the third quartile (Q3)\n",
        "q3 = np.percentile(ages, 75)\n",
        "\n",
        "# Calculate the interquartile range (IQR)\n",
        "iqr = q3 - q1\n",
        "\n",
        "# Print the result\n",
        "print(\"Interquartile Range (IQR):\", iqr)\n"
      ],
      "metadata": {
        "colab": {
          "base_uri": "https://localhost:8080/"
        },
        "id": "GmduXT-ZodX7",
        "outputId": "4300229a-0d06-4c09-d3e0-b798ea0f02ee"
      },
      "execution_count": 25,
      "outputs": [
        {
          "output_type": "stream",
          "name": "stdout",
          "text": [
            "Interquartile Range (IQR): 22.5\n"
          ]
        }
      ]
    },
    {
      "cell_type": "code",
      "source": [
        "#17\n",
        "from scipy.stats import kruskal\n",
        "\n",
        "algorithm_A = [0.85, 0.80, 0.82, 0.87, 0.83]\n",
        "algorithm_B = [0.78, 0.82, 0.84, 0.80, 0.79]\n",
        "algorithm_C = [0.90, 0.88, 0.89, 0.86, 0.87]\n",
        "\n",
        "# Perform Kruskal-Wallis test\n",
        "statistic, p_value = kruskal(algorithm_A, algorithm_B, algorithm_C)\n",
        "\n",
        "# Print the results\n",
        "print(\"Kruskal-Wallis statistic:\", statistic)\n",
        "print(\"P-Value:\", p_value)\n"
      ],
      "metadata": {
        "colab": {
          "base_uri": "https://localhost:8080/"
        },
        "id": "mzN83IfTomoo",
        "outputId": "3f93983e-7c1e-4c41-baba-5112b202e9e8"
      },
      "execution_count": 26,
      "outputs": [
        {
          "output_type": "stream",
          "name": "stdout",
          "text": [
            "Kruskal-Wallis statistic: 9.696947935368053\n",
            "P-Value: 0.007840333026249539\n"
          ]
        }
      ]
    },
    {
      "cell_type": "code",
      "source": [
        "#18\n",
        "import numpy as np\n",
        "from scipy.stats import linregress\n",
        "\n",
        "price = [10, 15, 12, 8, 14]\n",
        "sales = [100, 80, 90, 110, 95]\n",
        "\n",
        "# Perform linear regression\n",
        "slope, intercept, r_value, p_value, std_err = linregress(price, sales)\n",
        "\n",
        "# Print the results\n",
        "print(\"Slope:\", slope)\n",
        "print(\"Intercept:\", intercept)\n",
        "print(\"R-Value (Correlation Coefficient):\", r_value)\n",
        "print(\"P-Value:\", p_value)\n",
        "print(\"Standard Error:\", std_err)\n"
      ],
      "metadata": {
        "colab": {
          "base_uri": "https://localhost:8080/"
        },
        "id": "k0Xji2pYoxy4",
        "outputId": "8b8c3b6d-e226-455d-9074-c8124bc00e2e"
      },
      "execution_count": 27,
      "outputs": [
        {
          "output_type": "stream",
          "name": "stdout",
          "text": [
            "Slope: -3.506097560975609\n",
            "Intercept: 136.3719512195122\n",
            "R-Value (Correlation Coefficient): -0.8979991308594848\n",
            "P-Value: 0.03850178234753776\n",
            "Standard Error: 0.9918303504036147\n"
          ]
        }
      ]
    },
    {
      "cell_type": "code",
      "source": [
        "#19\n",
        "import numpy as np\n",
        "\n",
        "satisfaction_scores = [7, 8, 9, 6, 8, 7, 9, 7, 8, 7]\n",
        "\n",
        "# Calculate the standard deviation\n",
        "standard_deviation = np.std(satisfaction_scores, ddof=1)  # ddof=1 for sample standard deviation\n",
        "\n",
        "# Calculate the sample size\n",
        "sample_size = len(satisfaction_scores)\n",
        "\n",
        "# Calculate the standard error\n",
        "standard_error = standard_deviation / np.sqrt(sample_size)\n",
        "\n",
        "# Print the result\n",
        "print(\"Standard Error of the Mean:\", standard_error)\n"
      ],
      "metadata": {
        "colab": {
          "base_uri": "https://localhost:8080/"
        },
        "id": "Ki5m8xKdo6os",
        "outputId": "16a41f55-0c12-4c1f-98f5-2d7fcdd63ff1"
      },
      "execution_count": 28,
      "outputs": [
        {
          "output_type": "stream",
          "name": "stdout",
          "text": [
            "Standard Error of the Mean: 0.30550504633038933\n"
          ]
        }
      ]
    },
    {
      "cell_type": "code",
      "source": [
        "#20\n",
        "import statsmodels.api as sm\n",
        "\n",
        "advertising_expenditure = [10, 15, 12, 8, 14]\n",
        "sales = [25, 30, 28, 20, 26]\n",
        "\n",
        "# Add a constant term to the advertising expenditure data\n",
        "X = sm.add_constant(advertising_expenditure)\n",
        "\n",
        "# Fit the multiple regression model\n",
        "model = sm.OLS(sales, X)\n",
        "results = model.fit()\n",
        "\n",
        "# Print the regression results\n",
        "print(results.summary())\n"
      ],
      "metadata": {
        "colab": {
          "base_uri": "https://localhost:8080/"
        },
        "id": "fd8a02DBpNmA",
        "outputId": "d69c9f19-7fb5-43ab-e55e-0a64f3381bcf"
      },
      "execution_count": 31,
      "outputs": [
        {
          "output_type": "stream",
          "name": "stdout",
          "text": [
            "                            OLS Regression Results                            \n",
            "==============================================================================\n",
            "Dep. Variable:                      y   R-squared:                       0.767\n",
            "Model:                            OLS   Adj. R-squared:                  0.689\n",
            "Method:                 Least Squares   F-statistic:                     9.872\n",
            "Date:                Sat, 15 Jul 2023   Prob (F-statistic):             0.0516\n",
            "Time:                        17:45:00   Log-Likelihood:                -9.5288\n",
            "No. Observations:                   5   AIC:                             23.06\n",
            "Df Residuals:                       3   BIC:                             22.28\n",
            "Df Model:                           1                                         \n",
            "Covariance Type:            nonrobust                                         \n",
            "==============================================================================\n",
            "                 coef    std err          t      P>|t|      [0.025      0.975]\n",
            "------------------------------------------------------------------------------\n",
            "const         12.2012      4.429      2.755      0.070      -1.893      26.296\n",
            "x1             1.1524      0.367      3.142      0.052      -0.015       2.320\n",
            "==============================================================================\n",
            "Omnibus:                          nan   Durbin-Watson:                   1.136\n",
            "Prob(Omnibus):                    nan   Jarque-Bera (JB):                0.546\n",
            "Skew:                          -0.267   Prob(JB):                        0.761\n",
            "Kurtosis:                       1.471   Cond. No.                         57.3\n",
            "==============================================================================\n",
            "\n",
            "Notes:\n",
            "[1] Standard Errors assume that the covariance matrix of the errors is correctly specified.\n"
          ]
        },
        {
          "output_type": "stream",
          "name": "stderr",
          "text": [
            "/usr/local/lib/python3.10/dist-packages/statsmodels/stats/stattools.py:74: ValueWarning: omni_normtest is not valid with less than 8 observations; 5 samples were given.\n",
            "  warn(\"omni_normtest is not valid with less than 8 observations; %i \"\n"
          ]
        }
      ]
    }
  ]
}